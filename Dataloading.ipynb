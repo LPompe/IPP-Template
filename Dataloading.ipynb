{
  "nbformat": 4,
  "nbformat_minor": 0,
  "metadata": {
    "colab": {
      "name": "Dataloading.ipynb",
      "provenance": [],
      "authorship_tag": "ABX9TyMTUzwMN0P38uVzwc0mX06k"
    },
    "kernelspec": {
      "name": "python3",
      "display_name": "Python 3"
    }
  },
  "cells": [
    {
      "cell_type": "code",
      "metadata": {
        "colab": {
          "base_uri": "https://localhost:8080/"
        },
        "id": "_9KgSXbA5SP9",
        "outputId": "0c322e57-8ce6-45e0-d714-f809ec7b0c8d"
      },
      "source": [
        "import numpy as np\n",
        "import pandas as pd\n",
        "%pylab"
      ],
      "execution_count": 1,
      "outputs": [
        {
          "output_type": "stream",
          "text": [
            "Using matplotlib backend: agg\n",
            "Populating the interactive namespace from numpy and matplotlib\n"
          ],
          "name": "stdout"
        }
      ]
    },
    {
      "cell_type": "code",
      "metadata": {
        "id": "Q1fJO8iu5zHm"
      },
      "source": [
        ""
      ],
      "execution_count": null,
      "outputs": []
    }
  ]
}